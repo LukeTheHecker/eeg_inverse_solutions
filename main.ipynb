{
 "metadata": {
  "language_info": {
   "codemirror_mode": {
    "name": "ipython",
    "version": 3
   },
   "file_extension": ".py",
   "mimetype": "text/x-python",
   "name": "python",
   "nbconvert_exporter": "python",
   "pygments_lexer": "ipython3",
   "version": "3.7.4-final"
  },
  "orig_nbformat": 2,
  "kernelspec": {
   "name": "Python 3.7.4 64-bit ('eeg_cl': conda)",
   "display_name": "Python 3.7.4 64-bit ('eeg_cl': conda)",
   "metadata": {
    "interpreter": {
     "hash": "afcdd4d2e734b8cc73068caef86ae46129b40185bf7a7f76a247799cb489ae6d"
    }
   }
  }
 },
 "nbformat": 4,
 "nbformat_minor": 2,
 "cells": [
  {
   "cell_type": "code",
   "execution_count": null,
   "metadata": {},
   "outputs": [],
   "source": [
    "import numpy as np\n",
    "from viz import quickplot\n",
    "import matplotlib.pyplot as plt\n",
    "import mne\n",
    "import pickle as pkl\n",
    "from sim import *\n",
    "from inverse_solutions import *\n",
    "from source_covs import *\n",
    "from util import *\n",
    "from evaluate import *\n",
    "%matplotlib qt\n",
    "pth_res = 'assets'"
   ]
  },
  {
   "source": [
    "## Load data"
   ],
   "cell_type": "markdown",
   "metadata": {}
  },
  {
   "cell_type": "code",
   "execution_count": null,
   "metadata": {},
   "outputs": [],
   "source": [
    "with open(pth_res + '/leadfield.pkl', 'rb') as file:\n",
    "    leadfield = pkl.load(file)[0]\n",
    "with open(pth_res + '/pos.pkl', 'rb') as file:  \n",
    "    pos = pkl.load(file)[0]\n",
    "with open(pth_res + '/info.pkl', 'rb') as file:  \n",
    "    info = pkl.load(file)\n",
    "chanPos = get_chan_pos_list(info, montage_type='standard_1020')"
   ]
  },
  {
   "source": [
    "## Generate random brain activity"
   ],
   "cell_type": "markdown",
   "metadata": {}
  },
  {
   "cell_type": "code",
   "execution_count": null,
   "metadata": {},
   "outputs": [],
   "source": [
    "import importlib\n",
    "import sim\n",
    "importlib.reload(sim)\n",
    "\n",
    "settings = {\"n_sources\": 2,  # number of sources\n",
    "            \"diam\": 50,  # diameter of source patches in mm\n",
    "            \"amplitude\": 9.5,  # amplitude of source patches\n",
    "            \"shape\": 'gaussian',\n",
    "            \"durOfTrial\": 1,\n",
    "            \"sampleFreq\": 100,\n",
    "            \"snr\": 1,\n",
    "            \"filtfreqs\": (1, 30),\n",
    "            \"path\": 'assets/raw_data',\n",
    "            \"numberOfTrials\": 20,\n",
    "            }\n",
    "\n",
    "y, simSettings = simulate_source(pos, settings)\n",
    "y.shape\n",
    "x = add_real_noise(np.matmul(leadfield, y), settings)\n",
    "\n",
    "# plt.figure()\n",
    "# plt.plot(x.T)\n",
    "# print('')"
   ]
  },
  {
   "cell_type": "code",
   "execution_count": null,
   "metadata": {},
   "outputs": [],
   "source": [
    "settings = {\"n_sources\": 2,  # number of sources\n",
    "            \"diam\": 50,  # diameter of source patches in mm\n",
    "            \"amplitude\": 9.5,  # amplitude of source patches\n",
    "            \"shape\": 'gaussian',\n",
    "            \"durOfTrial\": 1,\n",
    "            \"sampleFreq\": 100,\n",
    "            \"snr\": 1,\n",
    "            \"filtfreqs\": (1, 30),\n",
    "            \"path\": 'assets/raw_data',\n",
    "            \"numberOfTrials\": 20,\n",
    "            }\n",
    "\n",
    "n = 10\n",
    "sources = [simulate_source(pos, settings) for _ in range(n)]\n",
    "eegs = [add_real_noise(np.matmul(leadfield, source[0]), settings) for source in sources]"
   ]
  },
  {
   "cell_type": "code",
   "execution_count": null,
   "metadata": {},
   "outputs": [],
   "source": [
    "eegs[0].shape"
   ]
  },
  {
   "source": [
    "## Plot True Source"
   ],
   "cell_type": "markdown",
   "metadata": {}
  },
  {
   "cell_type": "code",
   "execution_count": null,
   "metadata": {},
   "outputs": [],
   "source": [
    "%matplotlib qt\n",
    "quickplot(y[:, 50], 'assets', backend='mayavi', title='True Source')\n",
    "mne.viz.plot_topomap(x[:, 47], pos=info)\n"
   ]
  },
  {
   "source": [
    "## Exhaustive Dipole Search  \n",
    "The following function tries out each dipole location and picks the one that explains most of the data. This can be considered a brute force approach"
   ],
   "cell_type": "markdown",
   "metadata": {}
  },
  {
   "cell_type": "code",
   "execution_count": null,
   "metadata": {},
   "outputs": [],
   "source": [
    "y_est = exhaustive_dipole_search(x, leadfield, pos)\n",
    "eval_estimate(y, y_est)\n",
    "auc = auc_eval(y, y_est, plotme=False)\n",
    "quickplot(y_est, 'assets', backend='mayavi')\n"
   ]
  },
  {
   "source": [
    "# The simplest way to calculate the inverse problem\n",
    "\n",
    "When formulating the inverse problem, we say that:\n",
    "```\n",
    "M = G * J\n",
    "```\n",
    "Where...  \n",
    "**M** is the M/EEG signal vector of size q  \n",
    "**G** is the leadfield matrix of size q x p  \n",
    "**J** is the unknown source of size p  \n",
    "*q*... number of electrodes  \n",
    "*p*... number of dipoles modelled in the brain  \n",
    "\n",
    "Using linear algebra, we find J by multiplying the pseudoinverse(^1) of G on both sides  \n",
    "\n",
    "```\n",
    "M * pinv(G) = G * pinv(G) * J  \n",
    "```\n",
    "since the matrix multiplication of a matrix and its inverse makes itself redundant, we can write:  \n",
    "```\n",
    "M * pinv(G) = J\n",
    "```\n",
    "and directly computed an inverse solution.  \n",
    "(^1) We need the pseudoinverse since the normal inverse of a matrix only works for square matrices."
   ],
   "cell_type": "markdown",
   "metadata": {}
  },
  {
   "cell_type": "code",
   "execution_count": null,
   "metadata": {},
   "outputs": [],
   "source": [
    "y_est = np.matmul(np.linalg.pinv(leadfield), x)\n",
    "quickplot(y_est, pth_res=pth_res, backend='mayavi')\n",
    "eval_estimate(y, y_est)\n",
    "\n",
    "# or equivalently:\n",
    "# y_est = np.linalg.lstsq(leadfield, x)[0]\n",
    "# quickplot(y_est, 'assets', backend='mayavi')"
   ]
  },
  {
   "source": [
    "In that form, however, we have the following problems:\n",
    "\n",
    "* No noise term\n",
    "* No covariance matrix in which we can incorporate our prior assumptions\n",
    "\n",
    "Therefore, we adapt the following term:\n",
    "\n",
    "```\n",
    "W = (C * G') * inv(N + ( (G * S) * G' ))\n",
    "J = W * M\n",
    "```\n",
    "Where...  \n",
    "**W** is the new transformation matrix  \n",
    "**C** is the source covariance matrix *sourceCov*  \n",
    "**N** is the noise term *sensorNoise*  \n",
    "\n",
    "The noise covariance matrix can be regarded as the prior, which in its simplest case is the identitiy matrix **I** (each source is equally likely to be involved). The identity matrix is used for the minimum norm solution."
   ],
   "cell_type": "markdown",
   "metadata": {}
  },
  {
   "cell_type": "code",
   "execution_count": null,
   "metadata": {},
   "outputs": [],
   "source": [
    "sourceCov = np.identity(leadfield.shape[1])  # identity matrix as source covariance\n",
    "sensorNoise = x * rms(x) * 0.00000000001  # some sensor noise\n",
    "w = np.matmul( np.matmul(sourceCov, leadfield.T), (np.linalg.inv(sensorNoise + np.matmul(np.matmul(leadfield, sourceCov), leadfield.T))) )\n",
    "y_est = np.sum(w*x, axis=1)\n",
    "eval_estimate(y, y_est)\n",
    "quickplot(y_est, pth_res=pth_res, backend='mayavi', title='Minimum norm solution')"
   ]
  },
  {
   "source": [
    "The functions *sourceCovEstimate*, *minimum_norm_estimate* and *loreta* are based on this approach and can be used like this:"
   ],
   "cell_type": "markdown",
   "metadata": {}
  },
  {
   "cell_type": "code",
   "execution_count": null,
   "metadata": {},
   "outputs": [],
   "source": [
    "y_loreta = loreta(x, leadfield)\n",
    "y_mne = minimum_norm_estimate(x, leadfield)\n",
    "y_mne_reg = minimum_norm_estimate_2(x, leadfield)\n",
    "\n",
    "y_sourceCov = sourceCovEstimate(x, leadfield, np.random.rand(leadfield.shape[1], leadfield.shape[1]))\n"
   ]
  },
  {
   "cell_type": "code",
   "execution_count": null,
   "metadata": {},
   "outputs": [],
   "source": [
    "# quickplot(y_sourceCov, pth_res=pth_res, backend='mayavi', title='Random SourceCovariance')\n",
    "# quickplot(y_mne, pth_res=pth_res, backend='mayavi', title='MNE')\n",
    "# quickplot(y_mne_reg, pth_res=pth_res, backend='mayavi', title='regularized MNE')\n",
    "quickplot(y_loreta, pth_res=pth_res, backend='mayavi', title='Loreta')\n",
    "eval_estimate(y, y_loreta)"
   ]
  },
  {
   "source": [
    "We can also use a different prior, e.g. the true source.  \n",
    "Of course, this is cheating, but interesting nonetheless!  "
   ],
   "cell_type": "markdown",
   "metadata": {}
  },
  {
   "cell_type": "code",
   "execution_count": null,
   "metadata": {},
   "outputs": [],
   "source": [
    "# Create Source Cov matrix\n",
    "sourceCov = np.zeros((leadfield.shape[1], leadfield.shape[1]))\n",
    "for i in range(leadfield.shape[1]):\n",
    "    sourceCov[i, i] = y[i]\n",
    "\n",
    "sensorNoise = x * rms(x) * 0.05  # some sensor noise\n",
    "# Normalization\n",
    "sourceCov /= np.max(sourceCov)\n",
    "\n",
    "w = np.matmul( np.matmul(sourceCov, leadfield.T), (np.linalg.inv(sensorNoise + np.matmul(np.matmul(leadfield, sourceCov), leadfield.T))) )\n",
    "y_est = np.sum(w*x, axis=1)\n",
    "quickplot(y_est, pth_res=pth_res, backend='mayavi', title='Inverse solution with true source as prior')\n",
    "eval_estimate(y, y_est)"
   ]
  },
  {
   "source": [
    "# Working through:  \n",
    "### Spatial fidelity of MEG/EEG source estimates: A general evaluation approach  \n",
    "Samuelsson, Pele, Mamashli, Ahveninen, Hämäläinen"
   ],
   "cell_type": "markdown",
   "metadata": {}
  },
  {
   "source": [
    "## MNE:"
   ],
   "cell_type": "markdown",
   "metadata": {}
  },
  {
   "cell_type": "code",
   "execution_count": null,
   "metadata": {},
   "outputs": [],
   "source": [
    "# New mne\n",
    "sensorNoise = np.identity(leadfield.shape[0])  # x * rms(x) * 0.5  # some sensor noise\n",
    "y_est = minimum_norm_estimate_3(x, leadfield, sensorNoise, tikhonov=1.62)\n",
    "eval_estimate(y, y_est)\n",
    "auc = auc_eval(y, y_est, simSettings, pos, plotme=True)\n",
    "quickplot(y_est, pth_res=pth_res, backend='mayavi', title=f'MNE, auc={auc}')"
   ]
  },
  {
   "source": [
    "## sLORETA"
   ],
   "cell_type": "markdown",
   "metadata": {}
  },
  {
   "cell_type": "code",
   "execution_count": null,
   "metadata": {},
   "outputs": [],
   "source": [
    "sensorNoise = x * rms(x) * 0.05  # some sensor noise\n",
    "tikhonov = 0.05\n",
    "y_est = sloreta(x, leadfield, sensorNoise, tikhonov=tikhonov)\n",
    "eval_estimate(y, y_est)\n",
    "auc = auc_eval(y, y_est, simSettings, pos, plotme=True)\n",
    "quickplot(y_est, pth_res=pth_res, backend='mayavi', title=f'sLORETA, auc={auc}')"
   ]
  },
  {
   "source": [
    "## dSPM"
   ],
   "cell_type": "markdown",
   "metadata": {}
  },
  {
   "cell_type": "code",
   "execution_count": null,
   "metadata": {},
   "outputs": [],
   "source": [
    "sensorNoise = x * rms(x) * 0.05  # some sensor noise\n",
    "tikhonov = 0.05\n",
    "y_est = dspm(x, leadfield, sensorNoise, tikhonov=tikhonov)\n",
    "eval_estimate(y, y_est)\n",
    "auc = auc_eval(y, y_est, simSettings, pos, plotme=True)\n",
    "quickplot(y_est, pth_res=pth_res, backend='mayavi', title=f'dSPM, auc={auc}')"
   ]
  },
  {
   "source": [
    "## eLORETA"
   ],
   "cell_type": "markdown",
   "metadata": {}
  },
  {
   "cell_type": "code",
   "execution_count": null,
   "metadata": {},
   "outputs": [],
   "source": [
    "np.arange(0.0, 1, 0.01)"
   ]
  },
  {
   "cell_type": "code",
   "execution_count": null,
   "metadata": {},
   "outputs": [],
   "source": [
    "y_est = eloreta(x, leadfield, tikhonov=0.05)\n",
    "eval_estimate(y, y_est)\n",
    "auc = auc_eval(y, y_est, simSettings, pos, plotme=False)\n",
    "quickplot(y_est, pth_res=pth_res, backend='mayavi', title=f'eLORETA, auc={auc}')"
   ]
  },
  {
   "cell_type": "code",
   "execution_count": null,
   "metadata": {},
   "outputs": [],
   "source": []
  }
 ]
}