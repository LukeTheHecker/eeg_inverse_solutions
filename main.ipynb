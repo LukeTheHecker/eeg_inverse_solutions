{
 "metadata": {
  "language_info": {
   "codemirror_mode": {
    "name": "ipython",
    "version": 3
   },
   "file_extension": ".py",
   "mimetype": "text/x-python",
   "name": "python",
   "nbconvert_exporter": "python",
   "pygments_lexer": "ipython3",
   "version": "3.8.3-final"
  },
  "orig_nbformat": 2,
  "kernelspec": {
   "name": "Python 3.8.3 64-bit ('eeg_cl': conda)",
   "display_name": "Python 3.8.3 64-bit ('eeg_cl': conda)",
   "metadata": {
    "interpreter": {
     "hash": "d0fc3cba92ec6b377588655cd44d92b82bf3ffbdbeb748b554c8f9b77c681fa3"
    }
   }
  }
 },
 "nbformat": 4,
 "nbformat_minor": 2,
 "cells": [
  {
   "cell_type": "code",
   "execution_count": null,
   "metadata": {},
   "outputs": [],
   "source": [
    "import numpy as np\n",
    "from viz import quickplot\n",
    "import matplotlib.pyplot as plt\n",
    "import mne\n",
    "import pickle as pkl\n",
    "from sim import *\n",
    "from inverse_solutions import *\n",
    "from source_covs import *\n",
    "from util import *"
   ]
  },
  {
   "source": [
    "## Load data"
   ],
   "cell_type": "markdown",
   "metadata": {}
  },
  {
   "cell_type": "code",
   "execution_count": null,
   "metadata": {},
   "outputs": [],
   "source": [
    "with open('assets/leadfield.pkl', 'rb') as file:\n",
    "    leadfield = pkl.load(file)[0]\n",
    "with open('assets/pos.pkl', 'rb') as file:  \n",
    "    pos = pkl.load(file)[0]"
   ]
  },
  {
   "source": [
    "## Generate random brain activity"
   ],
   "cell_type": "markdown",
   "metadata": {}
  },
  {
   "cell_type": "code",
   "execution_count": null,
   "metadata": {},
   "outputs": [],
   "source": [
    "settings = {\"n_sources\": 1,  # number of sources\n",
    "            \"diam\": 40,  # diameter of source patches in mm\n",
    "            \"amplitude\": 1  # amplitude of source patches\n",
    "            }\n",
    "x, y = simulate_source(leadfield, pos, settings)"
   ]
  },
  {
   "source": [
    "## Plot True Source"
   ],
   "cell_type": "markdown",
   "metadata": {}
  },
  {
   "cell_type": "code",
   "execution_count": null,
   "metadata": {},
   "outputs": [],
   "source": [
    "%matplotlib qt\n",
    "quickplot(y, 'assets', backend='mayavi', title='True Source')"
   ]
  },
  {
   "source": [
    "## Exhaustive Dipole Search"
   ],
   "cell_type": "markdown",
   "metadata": {}
  },
  {
   "cell_type": "code",
   "execution_count": null,
   "metadata": {},
   "outputs": [],
   "source": [
    "# y_est = exhaustive_dipole_search(x, leadfield, pos)\n",
    "# quickplot(y_est, 'assets', backend='mayavi')"
   ]
  },
  {
   "source": [
    "## Linear least squares (same as MNE)"
   ],
   "cell_type": "markdown",
   "metadata": {}
  },
  {
   "cell_type": "code",
   "execution_count": null,
   "metadata": {},
   "outputs": [],
   "source": [
    "# y_least_squares = np.linalg.lstsq(leadfield, x)[0]\n",
    "# quickplot(y_least_squares, 'assets', backend='mayavi')"
   ]
  },
  {
   "source": [
    "## With Source covariance matrix"
   ],
   "cell_type": "markdown",
   "metadata": {}
  },
  {
   "cell_type": "code",
   "execution_count": null,
   "metadata": {},
   "outputs": [],
   "source": [
    "# Lets have a little noise\n",
    "sensorNoise = x * rms(x) * 0.05"
   ]
  },
  {
   "source": [
    "## MNE"
   ],
   "cell_type": "markdown",
   "metadata": {}
  },
  {
   "cell_type": "code",
   "execution_count": null,
   "metadata": {},
   "outputs": [],
   "source": [
    "%matplotlib qt\n",
    "y_mne = minimum_norm_estimate(x, leadfield, sensorNoise=sensorNoise)\n",
    "quickplot(y_mne, 'assets/', backend='mayavi', title='MNE')"
   ]
  },
  {
   "source": [
    "## LORETA"
   ],
   "cell_type": "markdown",
   "metadata": {}
  },
  {
   "cell_type": "code",
   "execution_count": null,
   "metadata": {},
   "outputs": [],
   "source": []
  },
  {
   "source": [
    "## Dipfit"
   ],
   "cell_type": "markdown",
   "metadata": {}
  },
  {
   "cell_type": "code",
   "execution_count": null,
   "metadata": {},
   "outputs": [],
   "source": [
    "sensorNoise = x * rms(x) * 0.05\n",
    "sourceCov = np.zeros((leadfield.shape[1], leadfield.shape[1]))\n",
    "sourceCov[100, 100] = 1\n",
    "w = np.matmul( np.matmul(sourceCov, leadfield.T), (np.linalg.inv(sensorNoise + np.matmul(np.matmul(leadfield, sourceCov), leadfield.T))) )\n",
    "y_est = np.sum(w*x, axis=1)\n",
    "quickplot(y_est, 'assets/', backend='mayavi', title='LORETA')"
   ]
  },
  {
   "source": [
    "## Regularized MNE"
   ],
   "cell_type": "markdown",
   "metadata": {}
  },
  {
   "cell_type": "code",
   "execution_count": null,
   "metadata": {},
   "outputs": [],
   "source": [
    "y_est = minimum_norm_estimate_2(x, leadfield, reg=True, alpha=2e-5)\n",
    "quickplot(y_est, 'assets/', backend='mayavi', title=f'Regularized MNE')"
   ]
  },
  {
   "cell_type": "code",
   "execution_count": null,
   "metadata": {},
   "outputs": [],
   "source": [
    "y_est = minimum_norm_estimate_2(x, leadfield, reg=False)\n",
    "quickplot(y_est, 'assets/', backend='mayavi', title=f'Unregularized MNE')"
   ]
  },
  {
   "cell_type": "code",
   "execution_count": null,
   "metadata": {},
   "outputs": [],
   "source": [
    "alpha = 2e-5\n",
    "\n",
    "y_est = minimum_norm_estimate_2(x, leadfield, reg=True, alpha=alpha)\n",
    "quickplot(y_est, 'assets/', backend='mayavi', title=f'Regularized MNE, alpha={alpha}')"
   ]
  },
  {
   "cell_type": "code",
   "execution_count": null,
   "metadata": {},
   "outputs": [],
   "source": [
    "alpha = 2e-10\n",
    "\n",
    "y_est = minimum_norm_estimate_2(x, leadfield, reg=True, alpha=alpha)\n",
    "quickplot(y_est, 'assets/', backend='mayavi', title=f'Regularized MNE, alpha={alpha}')"
   ]
  },
  {
   "cell_type": "code",
   "execution_count": null,
   "metadata": {},
   "outputs": [],
   "source": []
  },
  {
   "cell_type": "code",
   "execution_count": null,
   "metadata": {},
   "outputs": [],
   "source": [
    "%matplotlib qt\n",
    "y_loreta = loreta(x, leadfield, sigma=10, sensorNoise=sensorNoise)\n",
    "quickplot(y_loreta, 'assets/', backend='mayavi', title='LORETA')"
   ]
  }
 ]
}