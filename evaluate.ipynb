{
 "metadata": {
  "language_info": {
   "codemirror_mode": {
    "name": "ipython",
    "version": 3
   },
   "file_extension": ".py",
   "mimetype": "text/x-python",
   "name": "python",
   "nbconvert_exporter": "python",
   "pygments_lexer": "ipython3",
   "version": "3.8.3-final"
  },
  "orig_nbformat": 2,
  "kernelspec": {
   "name": "python38364bittfgpu2condad93025225eb74b59b81cf186a8a6ad6f",
   "display_name": "Python 3.8.3 64-bit ('tf_gpu2': conda)"
  }
 },
 "nbformat": 4,
 "nbformat_minor": 2,
 "cells": [
  {
   "cell_type": "code",
   "execution_count": null,
   "metadata": {},
   "outputs": [],
   "source": [
    "import numpy as np\n",
    "from viz import quickplot\n",
    "import matplotlib.pyplot as plt\n",
    "import seaborn as sns\n",
    "import mne\n",
    "import pickle as pkl\n",
    "import time\n",
    "from sim import *\n",
    "from inverse_solutions import *\n",
    "from source_covs import *\n",
    "from util import *\n",
    "from evaluate import *\n",
    "from par import *\n",
    "from tqdm import tqdm\n",
    "from joblib import Parallel, delayed\n",
    "%matplotlib qt\n",
    "pth_res = 'assets'"
   ]
  },
  {
   "source": [
    "## Load Data"
   ],
   "cell_type": "markdown",
   "metadata": {}
  },
  {
   "cell_type": "code",
   "execution_count": null,
   "metadata": {},
   "outputs": [],
   "source": [
    "with open(pth_res + '/leadfield.pkl', 'rb') as file:\n",
    "    leadfield = pkl.load(file)[0]\n",
    "with open(pth_res + '/pos.pkl', 'rb') as file:  \n",
    "    pos = pkl.load(file)[0]\n",
    "with open(pth_res + '/info.pkl', 'rb') as file:  \n",
    "    info = pkl.load(file)\n",
    "\n",
    "fwd = mne.read_forward_solution(pth_res + '/fsaverage-fwd.fif', verbose=0)"
   ]
  },
  {
   "source": [
    "## Simulate sources with real noise"
   ],
   "cell_type": "markdown",
   "metadata": {}
  },
  {
   "cell_type": "code",
   "execution_count": null,
   "metadata": {},
   "outputs": [],
   "source": [
    "settings = {\"n_sources\": 1,     # number of sources\n",
    "            \"diam\": (25, 35),   # diameter of source patches in mm\n",
    "            \"amplitude\": 9.5,   # src amplidude in (nAm)\n",
    "            \"shape\": 'flat',    # how src act is distr. in ext. srcs ('flat' or 'gaussian')\n",
    "            \"durOfTrial\": 1,    # duration of a trial in seconds\n",
    "            \"sampleFreq\": 100,  #\n",
    "            \"snr\": 1,           # Signal to noise ratio in single trial\n",
    "            \"filtfreqs\": (1, 30), # filter settings for raw data used as noise\n",
    "            \"path\": 'assets/raw_data', # path where to look for raw data\n",
    "            \"numberOfTrials\": 50,  # no of trials to avg (determines final snr)\n",
    "            }\n",
    "\n",
    "numberOfSimulations = 150\n",
    "\n",
    "sources = par_sim(simulate_source, numberOfSimulations, pos, settings)\n",
    "noise_trials = get_noise_trials(settings)\n",
    "eegData = par_addnoise(add_real_noise, sources, leadfield, settings, noise_trials=noise_trials)\n",
    "np.save('sim_02', [sources, eegData, settings])\n"
   ]
  },
  {
   "source": [
    "## Or Load it"
   ],
   "cell_type": "markdown",
   "metadata": {}
  },
  {
   "cell_type": "code",
   "execution_count": null,
   "metadata": {},
   "outputs": [],
   "source": [
    "sources, eegData, settings =  np.load('sim_01.npy', allow_pickle=True)"
   ]
  },
  {
   "source": [
    "## Visualize"
   ],
   "cell_type": "markdown",
   "metadata": {}
  },
  {
   "cell_type": "code",
   "execution_count": null,
   "metadata": {},
   "outputs": [],
   "source": [
    "idx = 1\n",
    "# mne.viz.plot_topomap(np.mean(eegData[idx], axis=0)[:, 50], pos=info)\n",
    "\n",
    "# plt.figure()\n",
    "# plt.plot(np.mean(eegData[idx], axis=0).T )\n",
    "# print('')\n",
    "quickplot(sources[idx][0][:, 50], pth_res, backend='mayavi', title='True Source')\n"
   ]
  },
  {
   "source": [
    "## Prepare data for MNE"
   ],
   "cell_type": "markdown",
   "metadata": {}
  },
  {
   "cell_type": "code",
   "execution_count": null,
   "metadata": {},
   "outputs": [],
   "source": [
    "# create epochs from data and settings\n",
    "noise_baseline = (0, 0.4)\n",
    "epochs, evokeds = data_to_mne(eegData, settings, info)\n",
    "noiseCovariances, dataCovariances = get_covariances(epochs, noise_baseline)\n",
    "\n"
   ]
  },
  {
   "source": [
    "## eLORETA"
   ],
   "cell_type": "markdown",
   "metadata": {}
  },
  {
   "cell_type": "code",
   "execution_count": null,
   "metadata": {},
   "outputs": [],
   "source": [
    "idx = 1\n",
    "return_idx = 50\n",
    "\n",
    "print('Inverting...')\n",
    "y_eloretas = [mne_elor(evoked, fwd, noiseCovariance, return_idx=return_idx) for evoked, noiseCovariance in zip(evokeds, noiseCovariances)]\n",
    "print('Evaluating...')\n",
    "aucs_eloreta = par_auc(sources, y_eloretas, pos, return_idx=50)\n",
    "aucs_eloreta_close = [i[0] for i in aucs_eloreta]\n",
    "aucs_eloreta_far = [i[1] for i in aucs_eloreta]\n",
    "\n",
    "# quickplot(y_eloretas[idx], pth_res, backend='mayavi', title='eloreta')\n",
    "\n",
    "plt.figure()\n",
    "sns.distplot(aucs_eloreta_far, rug=True, label='far')\n",
    "sns.distplot(aucs_eloreta_close, rug=True, label='close')\n",
    "plt.title(f'eLORETA AUC for single sources (m={np.median(aucs_eloreta):.2f})')\n",
    "plt.legend()"
   ]
  },
  {
   "source": [
    "## Beamforming"
   ],
   "cell_type": "markdown",
   "metadata": {}
  },
  {
   "cell_type": "code",
   "execution_count": null,
   "metadata": {},
   "outputs": [],
   "source": [
    "idx = 1\n",
    "return_idx = 50\n",
    "\n",
    "print('Inverting...')\n",
    "y_lcmvs = [mne_lcmv(evoked, fwd, noiseCovariance, dataCovariance, return_idx=return_idx) for evoked, noiseCovariance, dataCovariance in zip(evokeds, noiseCovariances, dataCovariances)]\n",
    "print('Evaluating...')\n",
    "aucs_lcmv = par_auc(sources, y_lcmvs, pos, return_idx=50)\n",
    "aucs_lcmv_close = [i[0] for i in aucs_lcmv]\n",
    "aucs_lcmv_far = [i[1] for i in aucs_lcmv]\n",
    "\n",
    "# quickplot(y_lcmvs[idx], pth_res, backend='mayavi', title='Beamforming')\n",
    "\n",
    "plt.figure()\n",
    "sns.distplot(aucs_lcmv_far, rug=True, label='far')\n",
    "sns.distplot(aucs_lcmv_close, rug=True, label='close')\n",
    "plt.title(f'Beamforming AUC for single sources (m={np.median(aucs_lcmv):.2f})')\n",
    "plt.legend()"
   ]
  },
  {
   "source": [
    "## Hierarchical bayes: Gamma Map"
   ],
   "cell_type": "markdown",
   "metadata": {}
  },
  {
   "cell_type": "code",
   "execution_count": null,
   "metadata": {},
   "outputs": [],
   "source": [
    "idx = 1\n",
    "return_idx = 50\n",
    "\n",
    "print('Inverting...')\n",
    "y_gamma_maps = Parallel(n_jobs=-1, backend='loky') \\\n",
    "        (delayed(mne_gamma_map) \\\n",
    "        (evoked, fwd, noiseCovariance, return_idx=return_idx) \\\n",
    "        for evoked, noiseCovariance in tqdm(zip(evokeds, noiseCovariances)))\n",
    "\n",
    "print('Evaluating...')\n",
    "aucs_gamma_map = par_auc(sources, y_gamma_maps, pos, return_idx=return_idx)\n",
    "aucs_gamma_map_close = [i[0] for i in aucs_gamma_map]\n",
    "aucs_gamma_map_far = [i[1] for i in aucs_gamma_map]\n",
    "\n",
    "# quickplot(y_gamma_maps[idx], pth_res, backend='mayavi', title='Gamma Map')\n",
    "\n",
    "plt.figure()\n",
    "sns.distplot(aucs_gamma_map_far, rug=True, label='far')\n",
    "sns.distplot(aucs_gamma_map_close, rug=True, label='close')\n",
    "plt.title(f'Gamma Map AUC for single sources (m={np.median(aucs_gamma_map):.2f})')\n",
    "plt.legend()"
   ]
  },
  {
   "source": [
    "## MxNE"
   ],
   "cell_type": "markdown",
   "metadata": {}
  },
  {
   "cell_type": "code",
   "execution_count": null,
   "metadata": {},
   "outputs": [],
   "source": [
    "idx = 1\n",
    "return_idx = 50\n",
    "\n",
    "print('Inverting...')\n",
    "y_mxnes = Parallel(n_jobs=-1, backend='loky') \\\n",
    "        (delayed(mne_mxne) \\\n",
    "        (evoked, fwd, noiseCovariance, return_idx=return_idx) \\\n",
    "        for evoked, noiseCovariance in tqdm(zip(evokeds, noiseCovariances)))\n",
    "\n",
    "print('Evaluating...')\n",
    "aucs_mxne = par_auc(sources, y_mxnes, pos, return_idx=return_idx)\n",
    "aucs_mxne_close = [i[0] for i in aucs_mxne]\n",
    "aucs_mxne_far = [i[1] for i in aucs_mxne]\n",
    "\n",
    "# quickplot(y_mxnes[idx], pth_res, backend='mayavi', title='Gamma Map')\n",
    "\n",
    "plt.figure()\n",
    "sns.distplot(aucs_mxne_far, rug=True, label='far')\n",
    "sns.distplot(aucs_mxne_close, rug=True, label='close')\n",
    "plt.title(f'MxNE AUC for single sources (m={np.median(aucs_mxne):.2f})')\n",
    "plt.legend()"
   ]
  },
  {
   "cell_type": "code",
   "execution_count": null,
   "metadata": {},
   "outputs": [],
   "source": [
    "return_idx = 50\n",
    "\n",
    "y_mxnes = list()\n",
    "for evoked, noiseCovariance in tqdm(zip(evokeds, noiseCovariances)):\n",
    "    res = mne_mxne(evoked, fwd, noiseCovariance, return_idx=return_idx)\n",
    "    y_mxnes.append(res)\n",
    "aucs_mxne = par_auc(sources, y_mxnes, pos, return_idx=return_idx)\n"
   ]
  },
  {
   "source": [
    "## ConvDip"
   ],
   "cell_type": "markdown",
   "metadata": {}
  },
  {
   "cell_type": "code",
   "execution_count": null,
   "metadata": {},
   "outputs": [],
   "source": [
    "from convdip import *\n",
    "pth = 'C:/Users/Lukas/Documents/projects/eeg_inverse_solutions/assets/convdip/ConvDip_gaussian_leanModel_500Epochs_bs32_38noise_25_35fwhm_1_5sources_10WeightedSrcLossTimes50_FwdLoss'\n",
    "model = load_convdip(pth)"
   ]
  },
  {
   "cell_type": "code",
   "execution_count": null,
   "metadata": {},
   "outputs": [],
   "source": [
    "import numpy as np\n",
    "import time\n",
    "return_idx = 50\n",
    "idx = 1\n",
    "print('Inverting...')\n",
    "convDipData = [np.expand_dims(np.expand_dims(vec_to_sevelev_newlayout(np.mean(x[:, :, return_idx], axis=0)), axis=0), axis=3) for x in eegData]\n",
    "\n",
    "y_convdips = [np.squeeze(model.predict( x / np.max(np.abs(x)) )) for x in convDipData]\n",
    "print('Evaluating...')\n",
    "aucs_convdip = par_auc(sources, y_convdips, pos, return_idx=50)\n",
    "aucs_convdip_close = [i[0] for i in aucs_convdip]\n",
    "aucs_convdip_far = [i[1] for i in aucs_convdip]\n",
    "\n",
    "plt.figure()\n",
    "sns.distplot(aucs_convdip_far, rug=True, label='far')\n",
    "sns.distplot(aucs_convdip_close, rug=True, label='close')\n",
    "plt.title(f'ConvDip AUC for single sources (m={np.median(aucs_convdip):.2f})')\n",
    "plt.legend()\n",
    "\n",
    "# quickplot(y_convdips[idx], pth_res, backend='mayavi', title='ConvDip')\n",
    "\n",
    "\n"
   ]
  },
  {
   "cell_type": "code",
   "execution_count": null,
   "metadata": {},
   "outputs": [],
   "source": [
    "quickplot(y_convdips[idx], pth_res, backend='mayavi', title='ConvDip')\n"
   ]
  },
  {
   "source": [
    "## Maximum Entropy Method (MEM)"
   ],
   "cell_type": "markdown",
   "metadata": {}
  },
  {
   "source": [
    "Export sources to fif for brainstorm"
   ],
   "cell_type": "markdown",
   "metadata": {}
  },
  {
   "cell_type": "code",
   "execution_count": null,
   "metadata": {},
   "outputs": [],
   "source": [
    "pth_dest = 'matlab/data/epochs/'\n",
    "epochs_covs_to_fif(epochs, dataCovariances, noiseCovariances, pth_dest)"
   ]
  },
  {
   "source": [
    "Read Brainstorm Sources"
   ],
   "cell_type": "markdown",
   "metadata": {}
  },
  {
   "cell_type": "code",
   "execution_count": null,
   "metadata": {},
   "outputs": [],
   "source": [
    "from scipy.io import loadmat\n",
    "idx = 0\n",
    "return_idx = 50\n",
    "\n",
    "y_mems = []\n",
    "for i in range(100):\n",
    "    pth_bst = f'C:/Users/Lukas/Documents/projects/eeg_inverse_solutions/matlab/data/epochs/cMEM_{i}.mat'\n",
    "    y_bst = loadmat(pth_bst)['sourceVector']\n",
    "    y_est = brainstorm_to_mne_space(y_bst)\n",
    "    y_mems.append(y_est)\n",
    "\n",
    "aucs_mem = [auc_eval(source[0][:, return_idx], y_mem, source[1], pos, plotme=False) for source, y_mem in zip(sources, y_mems)]\n",
    "aucs_mem_close = [i[0] for i in aucs_mem]\n",
    "aucs_mem_far = [i[1] for i in aucs_mem]\n",
    "\n",
    "plt.figure()\n",
    "sns.distplot(aucs_mem_far, rug=True, label='far')\n",
    "sns.distplot(aucs_mem_close, rug=True, label='close')\n",
    "plt.title(f'MEM AUC for single sources (m={np.mean(aucs_mem):.2f})')\n",
    "plt.legend()\n",
    "\n",
    "quickplot(y_mems[idx], pth_res, backend='mayavi', title='MEM')"
   ]
  },
  {
   "cell_type": "code",
   "execution_count": null,
   "metadata": {},
   "outputs": [],
   "source": [
    "print('\\nTotal:')\n",
    "print(f'eloreta: {np.nanmedian(aucs_eloreta)}')\n",
    "print(f'ConvDip: {np.nanmedian(aucs_convdip)}')\n",
    "print(f'LCMV: {np.nanmedian(aucs_lcmv)}')\n",
    "# print(f'MEM: {np.nanmedian(aucs_mem)}')\n",
    "\n",
    "print('\\nClose:')\n",
    "print(f'eloreta: {np.nanmedian(aucs_eloreta_close)}')\n",
    "print(f'ConvDip: {np.nanmedian(aucs_convdip_close)}')\n",
    "print(f'LCMV: {np.nanmedian(aucs_lcmv_close)}')\n",
    "# print(f'MEM: {np.nanmedian(aucs_mem_close)}')\n",
    "\n",
    "print('\\nFar:')\n",
    "print(f'eloreta: {np.nanmedian(aucs_eloreta_far)}')\n",
    "print(f'ConvDip: {np.nanmedian(aucs_convdip_far)}')\n",
    "print(f'LCMV: {np.nanmedian(aucs_lcmv_far)}')\n",
    "# print(f'MEM: {np.nanmedian(aucs_mem_far)}')\n"
   ]
  }
 ]
}