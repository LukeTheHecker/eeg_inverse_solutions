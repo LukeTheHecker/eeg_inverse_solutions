{
 "metadata": {
  "language_info": {
   "codemirror_mode": {
    "name": "ipython",
    "version": 3
   },
   "file_extension": ".py",
   "mimetype": "text/x-python",
   "name": "python",
   "nbconvert_exporter": "python",
   "pygments_lexer": "ipython3",
   "version": "3.8.3-final"
  },
  "orig_nbformat": 2,
  "kernelspec": {
   "name": "python38364bittfgpu2condad93025225eb74b59b81cf186a8a6ad6f",
   "display_name": "Python 3.8.3 64-bit ('tf_gpu2': conda)"
  }
 },
 "nbformat": 4,
 "nbformat_minor": 2,
 "cells": [
  {
   "cell_type": "code",
   "execution_count": null,
   "metadata": {},
   "outputs": [],
   "source": [
    "import numpy as np\n",
    "from viz import quickplot\n",
    "import matplotlib.pyplot as plt\n",
    "import seaborn as sns\n",
    "import mne\n",
    "import pickle as pkl\n",
    "import time\n",
    "from sim import *\n",
    "from inverse_solutions import *\n",
    "from source_covs import *\n",
    "from util import *\n",
    "from evaluate import *\n",
    "%matplotlib qt\n",
    "pth_res = 'assets'"
   ]
  },
  {
   "source": [
    "## Load Data"
   ],
   "cell_type": "markdown",
   "metadata": {}
  },
  {
   "cell_type": "code",
   "execution_count": null,
   "metadata": {},
   "outputs": [],
   "source": [
    "with open(pth_res + '/leadfield.pkl', 'rb') as file:\n",
    "    leadfield = pkl.load(file)[0]\n",
    "with open(pth_res + '/pos.pkl', 'rb') as file:  \n",
    "    pos = pkl.load(file)[0]\n",
    "with open(pth_res + '/info.pkl', 'rb') as file:  \n",
    "    info = pkl.load(file)\n",
    "\n",
    "fwd = mne.read_forward_solution(pth_res + '/fsaverage-fwd.fif', verbose=0)"
   ]
  },
  {
   "source": [
    "## Region growing"
   ],
   "cell_type": "markdown",
   "metadata": {}
  },
  {
   "cell_type": "code",
   "execution_count": null,
   "metadata": {},
   "outputs": [],
   "source": [
    "numberOfDipoles, numberOfElectrodes = pos.shape\n",
    "tris_lr = [fwd['src'][0]['use_tris'], fwd['src'][1]['use_tris']]\n",
    "pos_lr = [pos[:int(numberOfDipoles/2), :], pos[-int(numberOfDipoles/2):, :]]\n",
    "# determine distance of closest neighbor for each dipole\n",
    "distanceCrit = calc_dist_crit(pos)\n",
    "print(f'A neighbor is a voxel in {distanceCrit:.1f} mm vicinity')\n",
    "# Pick single dipole\n",
    "pick_idx = np.random.choice(np.arange(numberOfDipoles), size=1)[0]\n",
    "pick_pos = pos[pick_idx, :]\n",
    "hem = int(pos[pick_idx, 0] > 0)\n",
    "# Find its first neighbors on the mesh\n",
    "neighbors = get_triangle_neighbors(tris_lr)"
   ]
  },
  {
   "cell_type": "code",
   "execution_count": null,
   "metadata": {},
   "outputs": [],
   "source": [
    "# quick plot for testing\n",
    "order = 2\n",
    "y = np.zeros((numberOfDipoles))\n",
    "y[get_n_order_indices(order, pick_idx, neighbors)] = 1\n",
    "\n",
    "quickplot(y, pth_res, backend='mayavi', title=f'Order: {order}')"
   ]
  },
  {
   "cell_type": "code",
   "execution_count": null,
   "metadata": {},
   "outputs": [],
   "source": [
    "def calc_dist_vec(singlePosition, allPositions):\n",
    "    return np.sqrt(np.sum(np.square(allPositions - singlePosition), axis=1))\n",
    "def calc_dist_crit(pos):\n",
    "    numberOfDipoles = pos.shape[0]\n",
    "    distOfClosestNeighbor = np.zeros((numberOfDipoles))\n",
    "    for i in range(numberOfDipoles):\n",
    "        distVec = calc_dist_vec(pos[i, :], pos)\n",
    "        distOfClosestNeighbor[i] = np.min(distVec[np.nonzero(distVec)])\n",
    "    distanceCrit = np.ceil(np.max(distOfClosestNeighbor))\n",
    "    return distanceCrit\n",
    "\n",
    "def get_triangle_neighbors(tris_lr):\n",
    "    ''' Make a list for each dipole with indices of its triangle neighbors.    \n",
    "    '''\n",
    "    numberOfDipoles = len(np.unique(tris_lr[0])) + len(np.unique(tris_lr[1]))\n",
    "    neighbors = [list() for _ in range(numberOfDipoles)]\n",
    "    # correct right-hemisphere triangles\n",
    "    tris_lr_adjusted = deepcopy(tris_lr)\n",
    "    tris_lr_adjusted[1] += int(numberOfDipoles/2)\n",
    "    # left\n",
    "    for hem in range(2):\n",
    "        for idx in range(numberOfDipoles):\n",
    "            trianglesOfIndex = tris_lr_adjusted[hem][np.where(tris_lr_adjusted[hem] == idx)[0], :]\n",
    "            for tri in trianglesOfIndex:\n",
    "                neighbors[idx].extend(tri)\n",
    "                # Remove self-index (otherwise neighbors[idx] is its own neighbor)\n",
    "                neighbors[idx] = list(filter(lambda a: a != idx, neighbors[idx]))\n",
    "            # Remove duplicates\n",
    "            neighbors[idx] = list(np.unique(neighbors[idx]))                    \n",
    "    return neighbors\n",
    "\n",
    "def get_n_order_indices(order, pick_idx, neighbors):\n",
    "    ''' Iteratively performs region growing by selecting neighbors of \n",
    "    neighbors for <order> iterations.\n",
    "    '''\n",
    "    if order == 0:\n",
    "        return pick_idx\n",
    "    flatten = lambda t: [item for sublist in t for item in sublist]\n",
    "\n",
    "    current_indices = [pick_idx]\n",
    "    for cnt in range(order):\n",
    "        # current_indices = list(np.array( current_indices ).flatten())\n",
    "        # print(f'\\norder={cnt}, current_indices={current_indices}\\n')\n",
    "        new_indices = [neighbors[i] for i in current_indices]\n",
    "        new_indices = flatten( new_indices )\n",
    "        current_indices.extend(new_indices)\n",
    "    return current_indices"
   ]
  },
  {
   "source": [],
   "cell_type": "markdown",
   "metadata": {}
  }
 ]
}