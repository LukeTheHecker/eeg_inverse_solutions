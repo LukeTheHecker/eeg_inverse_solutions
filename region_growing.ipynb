{
 "metadata": {
  "language_info": {
   "codemirror_mode": {
    "name": "ipython",
    "version": 3
   },
   "file_extension": ".py",
   "mimetype": "text/x-python",
   "name": "python",
   "nbconvert_exporter": "python",
   "pygments_lexer": "ipython3",
   "version": "3.8.3-final"
  },
  "orig_nbformat": 2,
  "kernelspec": {
   "name": "python38364bittfgpu2condad93025225eb74b59b81cf186a8a6ad6f",
   "display_name": "Python 3.8.3 64-bit ('tf_gpu2': conda)"
  }
 },
 "nbformat": 4,
 "nbformat_minor": 2,
 "cells": [
  {
   "cell_type": "code",
   "execution_count": null,
   "metadata": {},
   "outputs": [],
   "source": [
    "import numpy as np\n",
    "from viz import quickplot\n",
    "import matplotlib.pyplot as plt\n",
    "import seaborn as sns\n",
    "import mne\n",
    "import pickle as pkl\n",
    "import time\n",
    "from sim import *\n",
    "from inverse_solutions import *\n",
    "from source_covs import *\n",
    "from util import *\n",
    "from evaluate import *\n",
    "from par import *\n",
    "from tqdm import tqdm\n",
    "from joblib import Parallel, delayed\n",
    "%matplotlib qt\n",
    "pth_res = 'assets'"
   ]
  },
  {
   "source": [
    "## Load Data"
   ],
   "cell_type": "markdown",
   "metadata": {}
  },
  {
   "cell_type": "code",
   "execution_count": null,
   "metadata": {},
   "outputs": [],
   "source": [
    "with open(pth_res + '/leadfield.pkl', 'rb') as file:\n",
    "    leadfield = pkl.load(file)[0]\n",
    "with open(pth_res + '/pos.pkl', 'rb') as file:  \n",
    "    pos = pkl.load(file)[0]\n",
    "with open(pth_res + '/info.pkl', 'rb') as file:  \n",
    "    info = pkl.load(file)\n",
    "\n",
    "fwd = mne.read_forward_solution(pth_res + '/fsaverage-fwd.fif', verbose=0)\n",
    "fwd_fixed = mne.convert_forward_solution(fwd, surf_ori=True, force_fixed=True,\n",
    "                                         use_cps=True)"
   ]
  },
  {
   "source": [
    "## Region growing"
   ],
   "cell_type": "markdown",
   "metadata": {}
  },
  {
   "cell_type": "code",
   "execution_count": null,
   "metadata": {},
   "outputs": [],
   "source": [
    "numberOfDipoles, numberOfElectrodes = pos.shape\n",
    "tris_lr = [fwd['src'][0]['use_tris'], fwd['src'][1]['use_tris']]\n",
    "pos_lr = [pos[:int(numberOfDipoles/2), :], pos[-int(numberOfDipoles/2):, :]]\n",
    "# determine distance of closest neighbor for each dipole\n",
    "distanceCrit = calc_dist_crit(pos)\n",
    "print(f'A neighbor is a voxel in {distanceCrit:.1f} mm vicinity')\n",
    "# Pick single dipole\n",
    "dip_idx = np.random.choice(np.arange(numberOfDipoles), size=1)[0]\n",
    "hem = int(pos[dip_idx, 0] > 0)\n",
    "# Find its first neighbors on the mesh\n",
    "\n"
   ]
  },
  {
   "cell_type": "code",
   "execution_count": null,
   "metadata": {},
   "outputs": [],
   "source": [
    "tris_lr[hem]"
   ]
  },
  {
   "cell_type": "code",
   "execution_count": null,
   "metadata": {},
   "outputs": [],
   "source": []
  },
  {
   "cell_type": "code",
   "execution_count": null,
   "metadata": {},
   "outputs": [],
   "source": [
    "idx = 55\n",
    "np.where(tris_lr[0] ==idx)\n",
    "tris_lr[0][np.where(tris_lr[0] ==idx)[0], :]"
   ]
  },
  {
   "cell_type": "code",
   "execution_count": null,
   "metadata": {},
   "outputs": [],
   "source": [
    "import time\n",
    "start = time.time()\n",
    "for i in range(numberOfDipoles):\n",
    "    tris_lr[0][np.where(tris_lr[0] ==1)[0], :]\n",
    "end = time.time()\n",
    "print(end-start)"
   ]
  },
  {
   "cell_type": "code",
   "execution_count": null,
   "metadata": {},
   "outputs": [],
   "source": [
    "pos[tris_lr[hem][3], :]\n",
    "# Make a list for each dipole with indices of its neighbors\n",
    "neighbors = [[]] * numberOfDipoles\n",
    "# left\n",
    "for idx in range(numberOfDipoles):\n",
    "    trianglesOfIndex = tris_lr[0][np.where(tris_lr[0] == idx)[0], :]\n",
    "    # print(tri)\n",
    "    for tri in trianglesOfIndex:\n",
    "        neighbors[idx].extend(tri)\n",
    "        neighbors[idx] = list(filter(lambda a: a != idx, neighbors[idx]))\n",
    "        \n",
    "    \n",
    "# right\n",
    "for i, tri in enumerate(tris_lr[1]):\n",
    "    pass"
   ]
  },
  {
   "cell_type": "code",
   "execution_count": null,
   "metadata": {},
   "outputs": [],
   "source": [
    "neighbors"
   ]
  },
  {
   "cell_type": "code",
   "execution_count": null,
   "metadata": {},
   "outputs": [],
   "source": [
    "def calc_dist_vec(singlePosition, allPositions):\n",
    "    return np.sqrt(np.sum(np.square(allPositions - singlePosition), axis=1))\n",
    "def calc_dist_crit(pos):\n",
    "    numberOfDipoles = pos.shape[0]\n",
    "    distOfClosestNeighbor = np.zeros((numberOfDipoles))\n",
    "    for i in range(numberOfDipoles):\n",
    "        distVec = calc_dist_vec(pos[i, :], pos)\n",
    "        distOfClosestNeighbor[i] = np.min(distVec[np.nonzero(distVec)])\n",
    "    distanceCrit = np.ceil(np.max(distOfClosestNeighbor))\n",
    "    return distanceCrit"
   ]
  },
  {
   "source": [],
   "cell_type": "markdown",
   "metadata": {}
  }
 ]
}